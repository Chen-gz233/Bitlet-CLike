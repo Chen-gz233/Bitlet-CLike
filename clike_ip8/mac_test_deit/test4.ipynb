{
 "cells": [
  {
   "cell_type": "code",
   "execution_count": null,
   "metadata": {},
   "outputs": [],
   "source": [
    "import numpy as np\n",
    "import torch\n",
    "from torch.nn import functional as F\n",
    "from tqdm import tqdm\n",
    "import onnx\n",
    "import onnxruntime\n",
    "from onnx import numpy_helper\n",
    "import os\n",
    "import time"
   ]
  },
  {
   "cell_type": "code",
   "execution_count": null,
   "metadata": {},
   "outputs": [],
   "source": [
    "\n",
    "def extract_onnx_weight(onnx_path):\n",
    "    model = onnx.load(onnx_path)\n",
    "\n",
    "    weights, names = [], []\n",
    "    for t in model.graph.initializer:\n",
    "        weights.append(numpy_helper.to_array(t))\n",
    "        names.append(t.name)\n",
    "        \n",
    "    onnx_weight = dict()\n",
    "    for name, weight in zip(names, weights):\n",
    "        onnx_weight[name] = weight\n",
    "    return onnx_weight\n",
    "\n",
    "extract_onnx_weight(\"deit_quant_0519.onnx\")\n",
    "print(extract_onnx_weight(\"deit_quant_0519.onnx\"))  "
   ]
  },
  {
   "cell_type": "code",
   "execution_count": null,
   "metadata": {},
   "outputs": [],
   "source": [
    "import onnx\n",
    "import numpy as np\n",
    "from collections import defaultdict\n",
    "\n",
    "# 加载ONNX模型\n",
    "onnx_model_path = \"deit_quant_0519.onnx\"  # 替换为你的ONNX模型文件路径\n",
    "model = onnx.load(onnx_model_path)\n",
    "\n",
    "# 创建字典来存储节点计数\n",
    "node_counts = defaultdict(int)\n",
    "\n",
    "# 创建空数组来存储输入参数 \"a\" 和 \"b\"\n",
    "input_a_array = []\n",
    "input_b_array = []\n",
    "\n",
    "# 遍历模型中的节点\n",
    "for node in model.graph.node:\n",
    "    if node.op_type == \"QLinearMatMul\":\n",
    "        # 统计节点数量\n",
    "        node_counts[\"QLinearMatMul\"] += 1\n",
    "\n",
    "        # 提取节点的输入参数 \"a\" 和 \"b\"\n",
    "        input_a = node.input[0]\n",
    "        input_b = node.input[3]\n",
    "\n",
    "        # 将输入参数 \"a\" 和 \"b\" 添加到数组中\n",
    "        input_a_array.append(input_a)\n",
    "        input_b_array.append(input_b)\n",
    "\n",
    "# 输出统计信息\n",
    "print(f\"总共找到 {node_counts['QLinearMatMul']} 个 'QLinearMatMul' 节点。\")\n",
    "\n",
    "# 使用循环输出输入参数 \"a\" 和 \"b\"\n",
    "print(\"a=\")  \n",
    "values_per_line = 10  # 每行输出的值的数量\n",
    "# 打印输入参数 \"a\" 值\n",
    "print(\"打印输入参数 a 值\")  \n",
    "for i in range(len(input_a_array)):\n",
    "    print(f'\"{input_a_array[i]}\",', end=' ')\n",
    "    if (i + 1) % values_per_line == 0:\n",
    "        print()  # 换行\n",
    "\n",
    "# 打印一个换行符，以确保 \"a\" 和 \"b\" 值分开显示\n",
    "print()\n",
    "\n",
    "# 打印输入参数 \"b\" 值\n",
    "print(\"打印输入参数 b 值\")  \n",
    "for i in range(len(input_b_array)):\n",
    "    print(f'\"{input_b_array[i]}\",', end=' ')\n",
    "    if (i + 1) % values_per_line == 0:\n",
    "        print()  # 换行\n"
   ]
  },
  {
   "cell_type": "code",
   "execution_count": null,
   "metadata": {},
   "outputs": [],
   "source": [
    "\n",
    "\n",
    "\n",
    "select_weight =\"patch_embed.proj.weight_quantized\" \n",
    "ONNX_PATH = \"deit_quant_0519.onnx\"\n",
    "deit_weight = extract_onnx_weight(ONNX_PATH)\n",
    "#weight = torch.from_numpy(deit_weight[select_weight])\n",
    "print(type(deit_weight))\n",
    "for key in deit_weight.keys():\n",
    "    if key.endswith(\"_quantized\"): \n",
    "        print(key)\n",
    "       \n",
    "#with open('data.txt','w') as f:    #设置文件对象\n",
    "#    f.write(str(deit_weight)) #将字符串写入文件中\n",
    "    \n"
   ]
  }
 ],
 "metadata": {
  "kernelspec": {
   "display_name": "int8_env",
   "language": "python",
   "name": "python3"
  },
  "language_info": {
   "codemirror_mode": {
    "name": "ipython",
    "version": 3
   },
   "file_extension": ".py",
   "mimetype": "text/x-python",
   "name": "python",
   "nbconvert_exporter": "python",
   "pygments_lexer": "ipython3",
   "version": "3.11.5"
  },
  "orig_nbformat": 4
 },
 "nbformat": 4,
 "nbformat_minor": 2
}
