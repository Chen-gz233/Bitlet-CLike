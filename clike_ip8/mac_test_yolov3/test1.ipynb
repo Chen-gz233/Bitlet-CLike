{
 "cells": [
  {
   "cell_type": "code",
   "execution_count": 1,
   "metadata": {},
   "outputs": [
    {
     "name": "stdout",
     "output_type": "stream",
     "text": [
      "总共找到 71 个 'QLinearConv' 节点。\n",
      "a=\n",
      "打印输入参数 a 值\n",
      "\"input.1_quantized\", \"441_quantized\", \"444_quantized\", \"447_quantized\", \"451_quantized\", \"454_quantized\", \"457_quantized\", \"461_quantized\", \"464_quantized\", \"468_quantized\", \n",
      "\"471_quantized\", \"474_quantized\", \"478_quantized\", \"481_quantized\", \"485_quantized\", \"488_quantized\", \"492_quantized\", \"495_quantized\", \"499_quantized\", \"502_quantized\", \n",
      "\"506_quantized\", \"509_quantized\", \"513_quantized\", \"516_quantized\", \"520_quantized\", \"523_quantized\", \"527_quantized\", \"530_quantized\", \"533_quantized\", \"537_quantized\", \n",
      "\"540_quantized\", \"544_quantized\", \"547_quantized\", \"551_quantized\", \"554_quantized\", \"558_quantized\", \"561_quantized\", \"565_quantized\", \"568_quantized\", \"572_quantized\", \n",
      "\"575_quantized\", \"579_quantized\", \"582_quantized\", \"586_quantized\", \"589_quantized\", \"592_quantized\", \"596_quantized\", \"599_quantized\", \"603_quantized\", \"606_quantized\", \n",
      "\"610_quantized\", \"613_quantized\", \"617_quantized\", \"620_quantized\", \"623_quantized\", \"626_quantized\", \"629_quantized\", \"632_quantized\", \"641_quantized\", \"644_quantized\", \n",
      "\"647_quantized\", \"650_quantized\", \"653_quantized\", \"656_quantized\", \"665_quantized\", \"668_quantized\", \"671_quantized\", \"674_quantized\", \"677_quantized\", \"680_quantized\", \n",
      "\"683_quantized\", \n",
      "打印输入参数 b 值\n",
      "\"701_quantized\", \"704_quantized\", \"707_quantized\", \"710_quantized\", \"713_quantized\", \"716_quantized\", \"719_quantized\", \"722_quantized\", \"725_quantized\", \"728_quantized\", \n",
      "\"731_quantized\", \"734_quantized\", \"737_quantized\", \"740_quantized\", \"743_quantized\", \"746_quantized\", \"749_quantized\", \"752_quantized\", \"755_quantized\", \"758_quantized\", \n",
      "\"761_quantized\", \"764_quantized\", \"767_quantized\", \"770_quantized\", \"773_quantized\", \"776_quantized\", \"779_quantized\", \"782_quantized\", \"785_quantized\", \"788_quantized\", \n",
      "\"791_quantized\", \"794_quantized\", \"797_quantized\", \"800_quantized\", \"803_quantized\", \"806_quantized\", \"809_quantized\", \"812_quantized\", \"815_quantized\", \"818_quantized\", \n",
      "\"821_quantized\", \"824_quantized\", \"827_quantized\", \"830_quantized\", \"833_quantized\", \"836_quantized\", \"839_quantized\", \"842_quantized\", \"845_quantized\", \"848_quantized\", \n",
      "\"851_quantized\", \"854_quantized\", \"857_quantized\", \"860_quantized\", \"863_quantized\", \"866_quantized\", \"869_quantized\", \"872_quantized\", \"875_quantized\", \"878_quantized\", \n",
      "\"881_quantized\", \"884_quantized\", \"887_quantized\", \"890_quantized\", \"893_quantized\", \"896_quantized\", \"899_quantized\", \"902_quantized\", \"905_quantized\", \"908_quantized\", \n",
      "\"blocks.yolo_106.layers.layer_105.conv.weight_quantized\", "
     ]
    }
   ],
   "source": [
    "import onnx\n",
    "import numpy as np\n",
    "from collections import defaultdict\n",
    "\n",
    "# 加载ONNX模型\n",
    "onnx_model_path = \"HUAWEI/yolov3_quant_0426.onnx\"  # 替换为你的ONNX模型文件路径\n",
    "model = onnx.load(onnx_model_path)\n",
    "\n",
    "# 创建字典来存储节点计数\n",
    "node_counts = defaultdict(int)\n",
    "\n",
    "# 创建空数组来存储输入参数 \"a\" 和 \"b\"\n",
    "input_a_array = []\n",
    "input_b_array = []\n",
    "\n",
    "# 遍历模型中的节点 \n",
    "for node in model.graph.node:\n",
    "    if node.op_type == \"QLinearConv\":\n",
    "        # 统计节点数量\n",
    "        node_counts[\"QLinearConv\"] += 1\n",
    "\n",
    "        # 提取节点的输入参数 \"a\" 和 \"b\"\n",
    "        input_a = node.input[0]\n",
    "        input_b = node.input[3]\n",
    "\n",
    "        # 将输入参数 \"a\" 和 \"b\" 添加到数组中\n",
    "        input_a_array.append(input_a)\n",
    "        input_b_array.append(input_b)\n",
    "\n",
    "# 输出统计信息\n",
    "print(f\"总共找到 {node_counts['QLinearConv']} 个 'QLinearConv' 节点。\")\n",
    "\n",
    "# 使用循环输出输入参数 \"a\" 和 \"b\"\n",
    "print(\"a=\")  \n",
    "values_per_line = 10  # 每行输出的值的数量\n",
    "# 打印输入参数 \"a\" 值\n",
    "print(\"打印输入参数 a 值\")  \n",
    "for i in range(len(input_a_array)):\n",
    "    print(f'\"{input_a_array[i]}\",', end=' ')\n",
    "    if (i + 1) % values_per_line == 0:\n",
    "        print()  # 换行\n",
    "\n",
    "# 打印一个换行符，以确保 \"a\" 和 \"b\" 值分开显示\n",
    "print()\n",
    "\n",
    "# 打印输入参数 \"b\" 值\n",
    "print(\"打印输入参数 b 值\")  \n",
    "for i in range(len(input_b_array)):\n",
    "    print(f'\"{input_b_array[i]}\",', end=' ')\n",
    "    if (i + 1) % values_per_line == 0:\n",
    "        print()  # 换行\n"
   ]
  }
 ],
 "metadata": {
  "kernelspec": {
   "display_name": "int8_env",
   "language": "python",
   "name": "python3"
  },
  "language_info": {
   "codemirror_mode": {
    "name": "ipython",
    "version": 3
   },
   "file_extension": ".py",
   "mimetype": "text/x-python",
   "name": "python",
   "nbconvert_exporter": "python",
   "pygments_lexer": "ipython3",
   "version": "3.11.5"
  },
  "orig_nbformat": 4
 },
 "nbformat": 4,
 "nbformat_minor": 2
}
